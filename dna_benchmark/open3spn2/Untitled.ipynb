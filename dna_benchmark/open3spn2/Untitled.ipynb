{
 "cells": [
  {
   "cell_type": "code",
   "execution_count": 1,
   "metadata": {},
   "outputs": [],
   "source": [
    "import openmm, openmm.app, openmm.unit"
   ]
  },
  {
   "cell_type": "code",
   "execution_count": 2,
   "metadata": {},
   "outputs": [
    {
     "name": "stderr",
     "output_type": "stream",
     "text": [
      "Warning: importing 'simtk.openmm' is deprecated.  Import 'openmm' instead.\n"
     ]
    }
   ],
   "source": [
    "import open3SPN2"
   ]
  },
  {
   "cell_type": "code",
   "execution_count": 3,
   "metadata": {},
   "outputs": [],
   "source": [
    "import sys"
   ]
  },
  {
   "cell_type": "code",
   "execution_count": 4,
   "metadata": {},
   "outputs": [],
   "source": [
    "import numpy as np"
   ]
  },
  {
   "cell_type": "code",
   "execution_count": 5,
   "metadata": {},
   "outputs": [],
   "source": [
    "import time"
   ]
  },
  {
   "cell_type": "code",
   "execution_count": 12,
   "metadata": {},
   "outputs": [
    {
     "name": "stdout",
     "output_type": "stream",
     "text": [
      "env: X3DNA=/home/ctan/Workspace/x3dna-v2.4\n"
     ]
    }
   ],
   "source": [
    "%env X3DNA=/home/ctan/Workspace/x3dna-v2.4"
   ]
  },
  {
   "cell_type": "code",
   "execution_count": 14,
   "metadata": {},
   "outputs": [
    {
     "name": "stdout",
     "output_type": "stream",
     "text": [
      "Bond\n",
      "Angle\n",
      "Stacking\n",
      "Dihedral\n",
      "BasePair\n",
      "CrossStacking\n",
      "Exclusion\n",
      "Electrostatics\n"
     ]
    }
   ],
   "source": [
    "seq = \"CC\"\n",
    "dna=open3SPN2.DNA.fromSequence(seq, dna_type='B_curved',output_pdb=f'initial.pdb')\n",
    "dna.computeTopology(template_from_X3DNA=False)\n",
    "\n",
    "# Create the system.\n",
    "# To set periodic boundary conditions (periodicBox=[50,50,50]).\n",
    "# The periodic box size is in nanometers.\n",
    "\n",
    "# dna.periodic=True\n",
    "# s=open3SPN2.System(dna, periodicBox=[50, 50, 50])\n",
    "dna.periodic=False\n",
    "s=open3SPN2.System(dna, periodicBox=None)\n",
    "\n",
    "s.add3SPN2forces(verbose=True)"
   ]
  },
  {
   "cell_type": "code",
   "execution_count": 45,
   "metadata": {},
   "outputs": [],
   "source": [
    "simulation_platform='CUDA' #['Reference', 'CPU', 'OpenCL', 'CUDA']\n",
    "t300k=300 * openmm.unit.kelvin\n",
    "s.initializeMD(temperature=t300k,platform_name=simulation_platform)\n",
    "\n",
    "# setting the ionic strength does not work!!!\n",
    "# s.forces[\"Electrostatics\"].C = 150"
   ]
  },
  {
   "cell_type": "code",
   "execution_count": 46,
   "metadata": {},
   "outputs": [],
   "source": [
    "sim=s.simulation\n",
    "\n",
    "#Set initial positions\n",
    "\n",
    "sim.context.setPositions(s.coord.getPositions())"
   ]
  },
  {
   "cell_type": "code",
   "execution_count": 47,
   "metadata": {},
   "outputs": [
    {
     "name": "stdout",
     "output_type": "stream",
     "text": [
      "TotalEnergy -16.047782 kcal/mol\n",
      "Bond 0.0 kcal/mol\n",
      "Angle 9e-06 kcal/mol\n",
      "Stacking -6.8779 kcal/mol\n",
      "Dihedral 0.0 kcal/mol\n",
      "BasePair -8.719931 kcal/mol\n",
      "CrossStacking -0.464472 kcal/mol\n",
      "Exclusion 0.0 kcal/mol\n",
      "Electrostatics 0.014511 kcal/mol\n"
     ]
    }
   ],
   "source": [
    "energy_unit=openmm.unit.kilocalorie_per_mole\n",
    "state = sim.context.getState(getEnergy=True)\n",
    "energy = state.getPotentialEnergy().value_in_unit(energy_unit)\n",
    "print('TotalEnergy', round(energy,6), energy_unit.get_symbol())\n",
    "\n",
    "#Obtain detailed energy\n",
    "\n",
    "energies = {}\n",
    "for force_name, force in s.forces.items():\n",
    "    group=force.getForceGroup()\n",
    "    state = sim.context.getState(getEnergy=True, groups=2**group)\n",
    "    energies[force_name] =state.getPotentialEnergy().value_in_unit(energy_unit)\n",
    "\n",
    "for force_name in s.forces.keys():\n",
    "    print(force_name, round(energies[force_name],6),energy_unit.get_symbol())"
   ]
  },
  {
   "cell_type": "code",
   "execution_count": null,
   "metadata": {},
   "outputs": [],
   "source": []
  }
 ],
 "metadata": {
  "kernelspec": {
   "display_name": "Python 3",
   "language": "python",
   "name": "python3"
  },
  "language_info": {
   "codemirror_mode": {
    "name": "ipython",
    "version": 3
   },
   "file_extension": ".py",
   "mimetype": "text/x-python",
   "name": "python",
   "nbconvert_exporter": "python",
   "pygments_lexer": "ipython3",
   "version": "3.7.8"
  }
 },
 "nbformat": 4,
 "nbformat_minor": 4
}
